{
 "cells": [
  {
   "cell_type": "markdown",
   "id": "faceb980-bc6a-4dfe-ae71-e22eb0daa4a0",
   "metadata": {},
   "source": [
    "**Data Science Tools and Ecosystem**"
   ]
  },
  {
   "cell_type": "markdown",
   "id": "fb7f8aac-3f1e-45b3-a8c6-8330f856b357",
   "metadata": {},
   "source": [
    "In this notebook, Data Science Tools and Ecosystem are summarized."
   ]
  },
  {
   "cell_type": "markdown",
   "id": "463ffae6-6539-4826-924d-601528d03e0a",
   "metadata": {},
   "source": [
    "**Objectives**\n",
    "* Popular languages in data science\n",
    "* libraries that are used in data science\n",
    "* arithmetic operations"
   ]
  },
  {
   "cell_type": "markdown",
   "id": "48f96256-40b4-40eb-ba31-8e46cdd245ce",
   "metadata": {},
   "source": [
    "Some of the popular languages that Data Scientists use are: \n",
    "1. Python\n",
    "2. R\n",
    "3. SQL"
   ]
  },
  {
   "cell_type": "markdown",
   "id": "5cf1daac-4bfc-4b6b-bc03-e6b3bd815192",
   "metadata": {},
   "source": [
    "Some of the commonly used libraries used by Data Scientists include:\n",
    "1. Scipy\n",
    "2. Tensorflow\n",
    "3. Beautiful soup\n",
    "4. Seaborn"
   ]
  },
  {
   "cell_type": "markdown",
   "id": "f64241bc-bb28-4040-a7ed-785617a91b2f",
   "metadata": {},
   "source": [
    "| Data Science Tools         |\r\n",
    "| -------------------------- |\r\n",
    "| Jupyter Notebooks          |\r\n",
    "| RStudio                    |\r\n",
    "| VS Code with Python        |\r\n"
   ]
  },
  {
   "cell_type": "code",
   "execution_count": 9,
   "id": "627aa81d-4a47-46e9-a6e4-e430bc308ea8",
   "metadata": {},
   "outputs": [
    {
     "name": "stdout",
     "output_type": "stream",
     "text": [
      "17\n"
     ]
    }
   ],
   "source": [
    "# This is a simple arithmetic espression to multiply and then add numbers\n",
    "result= (3 * 4) + 5\n",
    "print (result)"
   ]
  },
  {
   "cell_type": "code",
   "execution_count": 11,
   "id": "ad6ddf96-b7cd-418f-aa1c-35c54245dc5a",
   "metadata": {},
   "outputs": [
    {
     "name": "stdout",
     "output_type": "stream",
     "text": [
      "3.3333333333333335\n"
     ]
    }
   ],
   "source": [
    "# this will convert 200 minutes to hours by dividing by 60\n",
    "hr = 60\n",
    "minutes = 200\n",
    "hourintominutes = minutes / hr\n",
    "print (hourintominutes)"
   ]
  },
  {
   "cell_type": "markdown",
   "id": "614fd6ab-9cfd-4acb-9993-b00be1c9e19e",
   "metadata": {},
   "source": [
    "## Author\n",
    "Shaheera Sadaf"
   ]
  },
  {
   "cell_type": "code",
   "execution_count": null,
   "id": "ba85450e-8465-44c2-846b-3b8773547d6e",
   "metadata": {},
   "outputs": [],
   "source": []
  }
 ],
 "metadata": {
  "kernelspec": {
   "display_name": "Python 3 (ipykernel)",
   "language": "python",
   "name": "python3"
  },
  "language_info": {
   "codemirror_mode": {
    "name": "ipython",
    "version": 3
   },
   "file_extension": ".py",
   "mimetype": "text/x-python",
   "name": "python",
   "nbconvert_exporter": "python",
   "pygments_lexer": "ipython3",
   "version": "3.12.1"
  }
 },
 "nbformat": 4,
 "nbformat_minor": 5
}
